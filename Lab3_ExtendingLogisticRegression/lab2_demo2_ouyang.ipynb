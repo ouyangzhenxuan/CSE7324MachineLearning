{
 "cells": [
  {
   "cell_type": "code",
   "execution_count": 1,
   "metadata": {},
   "outputs": [
    {
     "data": {
      "text/html": [
       "<div>\n",
       "<style scoped>\n",
       "    .dataframe tbody tr th:only-of-type {\n",
       "        vertical-align: middle;\n",
       "    }\n",
       "\n",
       "    .dataframe tbody tr th {\n",
       "        vertical-align: top;\n",
       "    }\n",
       "\n",
       "    .dataframe thead th {\n",
       "        text-align: right;\n",
       "    }\n",
       "</style>\n",
       "<table border=\"1\" class=\"dataframe\">\n",
       "  <thead>\n",
       "    <tr style=\"text-align: right;\">\n",
       "      <th></th>\n",
       "      <th>battery_power</th>\n",
       "      <th>blue</th>\n",
       "      <th>clock_speed</th>\n",
       "      <th>dual_sim</th>\n",
       "      <th>fc</th>\n",
       "      <th>four_g</th>\n",
       "      <th>int_memory</th>\n",
       "      <th>m_dep</th>\n",
       "      <th>mobile_wt</th>\n",
       "      <th>n_cores</th>\n",
       "      <th>...</th>\n",
       "      <th>px_height</th>\n",
       "      <th>px_width</th>\n",
       "      <th>ram</th>\n",
       "      <th>sc_h</th>\n",
       "      <th>sc_w</th>\n",
       "      <th>talk_time</th>\n",
       "      <th>three_g</th>\n",
       "      <th>touch_screen</th>\n",
       "      <th>wifi</th>\n",
       "      <th>price_range</th>\n",
       "    </tr>\n",
       "  </thead>\n",
       "  <tbody>\n",
       "    <tr>\n",
       "      <th>0</th>\n",
       "      <td>842</td>\n",
       "      <td>0</td>\n",
       "      <td>2.2</td>\n",
       "      <td>0</td>\n",
       "      <td>1</td>\n",
       "      <td>0</td>\n",
       "      <td>7</td>\n",
       "      <td>0.6</td>\n",
       "      <td>188</td>\n",
       "      <td>2</td>\n",
       "      <td>...</td>\n",
       "      <td>20</td>\n",
       "      <td>756</td>\n",
       "      <td>2549</td>\n",
       "      <td>9</td>\n",
       "      <td>7</td>\n",
       "      <td>19</td>\n",
       "      <td>0</td>\n",
       "      <td>0</td>\n",
       "      <td>1</td>\n",
       "      <td>1</td>\n",
       "    </tr>\n",
       "    <tr>\n",
       "      <th>1</th>\n",
       "      <td>1021</td>\n",
       "      <td>1</td>\n",
       "      <td>0.5</td>\n",
       "      <td>1</td>\n",
       "      <td>0</td>\n",
       "      <td>1</td>\n",
       "      <td>53</td>\n",
       "      <td>0.7</td>\n",
       "      <td>136</td>\n",
       "      <td>3</td>\n",
       "      <td>...</td>\n",
       "      <td>905</td>\n",
       "      <td>1988</td>\n",
       "      <td>2631</td>\n",
       "      <td>17</td>\n",
       "      <td>3</td>\n",
       "      <td>7</td>\n",
       "      <td>1</td>\n",
       "      <td>1</td>\n",
       "      <td>0</td>\n",
       "      <td>2</td>\n",
       "    </tr>\n",
       "    <tr>\n",
       "      <th>2</th>\n",
       "      <td>563</td>\n",
       "      <td>1</td>\n",
       "      <td>0.5</td>\n",
       "      <td>1</td>\n",
       "      <td>2</td>\n",
       "      <td>1</td>\n",
       "      <td>41</td>\n",
       "      <td>0.9</td>\n",
       "      <td>145</td>\n",
       "      <td>5</td>\n",
       "      <td>...</td>\n",
       "      <td>1263</td>\n",
       "      <td>1716</td>\n",
       "      <td>2603</td>\n",
       "      <td>11</td>\n",
       "      <td>2</td>\n",
       "      <td>9</td>\n",
       "      <td>1</td>\n",
       "      <td>1</td>\n",
       "      <td>0</td>\n",
       "      <td>2</td>\n",
       "    </tr>\n",
       "    <tr>\n",
       "      <th>3</th>\n",
       "      <td>615</td>\n",
       "      <td>1</td>\n",
       "      <td>2.5</td>\n",
       "      <td>0</td>\n",
       "      <td>0</td>\n",
       "      <td>0</td>\n",
       "      <td>10</td>\n",
       "      <td>0.8</td>\n",
       "      <td>131</td>\n",
       "      <td>6</td>\n",
       "      <td>...</td>\n",
       "      <td>1216</td>\n",
       "      <td>1786</td>\n",
       "      <td>2769</td>\n",
       "      <td>16</td>\n",
       "      <td>8</td>\n",
       "      <td>11</td>\n",
       "      <td>1</td>\n",
       "      <td>0</td>\n",
       "      <td>0</td>\n",
       "      <td>2</td>\n",
       "    </tr>\n",
       "    <tr>\n",
       "      <th>4</th>\n",
       "      <td>1821</td>\n",
       "      <td>1</td>\n",
       "      <td>1.2</td>\n",
       "      <td>0</td>\n",
       "      <td>13</td>\n",
       "      <td>1</td>\n",
       "      <td>44</td>\n",
       "      <td>0.6</td>\n",
       "      <td>141</td>\n",
       "      <td>2</td>\n",
       "      <td>...</td>\n",
       "      <td>1208</td>\n",
       "      <td>1212</td>\n",
       "      <td>1411</td>\n",
       "      <td>8</td>\n",
       "      <td>2</td>\n",
       "      <td>15</td>\n",
       "      <td>1</td>\n",
       "      <td>1</td>\n",
       "      <td>0</td>\n",
       "      <td>1</td>\n",
       "    </tr>\n",
       "  </tbody>\n",
       "</table>\n",
       "<p>5 rows × 21 columns</p>\n",
       "</div>"
      ],
      "text/plain": [
       "   battery_power  blue  clock_speed  dual_sim  fc  four_g  int_memory  m_dep  \\\n",
       "0            842     0          2.2         0   1       0           7    0.6   \n",
       "1           1021     1          0.5         1   0       1          53    0.7   \n",
       "2            563     1          0.5         1   2       1          41    0.9   \n",
       "3            615     1          2.5         0   0       0          10    0.8   \n",
       "4           1821     1          1.2         0  13       1          44    0.6   \n",
       "\n",
       "   mobile_wt  n_cores  ...  px_height  px_width   ram  sc_h  sc_w  talk_time  \\\n",
       "0        188        2  ...         20       756  2549     9     7         19   \n",
       "1        136        3  ...        905      1988  2631    17     3          7   \n",
       "2        145        5  ...       1263      1716  2603    11     2          9   \n",
       "3        131        6  ...       1216      1786  2769    16     8         11   \n",
       "4        141        2  ...       1208      1212  1411     8     2         15   \n",
       "\n",
       "   three_g  touch_screen  wifi  price_range  \n",
       "0        0             0     1            1  \n",
       "1        1             1     0            2  \n",
       "2        1             1     0            2  \n",
       "3        1             0     0            2  \n",
       "4        1             1     0            1  \n",
       "\n",
       "[5 rows x 21 columns]"
      ]
     },
     "execution_count": 1,
     "metadata": {},
     "output_type": "execute_result"
    }
   ],
   "source": [
    "import numpy as np\n",
    "import sklearn\n",
    "from matplotlib import pyplot as plt\n",
    "from sklearn.metrics import accuracy_score\n",
    "import pandas as pd\n",
    "\n",
    "df = pd.read_csv('/users/ouyang/desktop/CSE7324MachineLearning/Datasets/mobile-price-classification/train.csv')\n",
    "df.head(5)"
   ]
  },
  {
   "cell_type": "markdown",
   "metadata": {},
   "source": [
    "## 2.1 Implementation of Logistic Regression"
   ]
  },
  {
   "cell_type": "code",
   "execution_count": 7,
   "metadata": {},
   "outputs": [],
   "source": [
    "from sklearn.datasets import load_iris\n",
    "import numpy as np\n",
    "from sklearn.metrics import accuracy_score\n",
    "from scipy.special import expit\n"
   ]
  },
  {
   "cell_type": "code",
   "execution_count": 8,
   "metadata": {},
   "outputs": [
    {
     "name": "stdout",
     "output_type": "stream",
     "text": [
      "CPU times: user 37 µs, sys: 0 ns, total: 37 µs\n",
      "Wall time: 40.8 µs\n"
     ]
    }
   ],
   "source": [
    "%%time\n",
    "# from last time, our logistic regression algorithm is given by (including everything we previously had):\n",
    "from numpy.linalg import pinv\n",
    "from scipy.optimize import fmin_bfgs\n",
    "\n",
    "class BinaryLogisticRegression:\n",
    "    def __init__(self, eta, iterations=20, C=0.001, optimization=1, \n",
    "                 regularization=2):\n",
    "        self.eta = eta\n",
    "        self.iters = iterations\n",
    "        self.C = C\n",
    "        self.optimization = optimization\n",
    "        self.regularization = regularization\n",
    "        # internally we will store the weights as self.w_ to keep with sklearn conventions\n",
    "        \n",
    "    def __str__(self):\n",
    "        if(hasattr(self,'w_')):\n",
    "            return 'Binary Logistic Regression Object with coefficients:\\n'+ str(self.w_) # is we have trained the object\n",
    "        else:\n",
    "            return 'Untrained Binary Logistic Regression Object'\n",
    "        \n",
    "    # convenience, private:\n",
    "    @staticmethod\n",
    "    def _add_bias(X):\n",
    "        return np.hstack((np.ones((X.shape[0],1)),X)) # add bias term\n",
    "    \n",
    "    @staticmethod\n",
    "    def _sigmoid(theta):\n",
    "        # increase stability, redefine sigmoid operation\n",
    "        return expit(theta) #1/(1+np.exp(-theta))\n",
    "    \n",
    "    \n",
    "    def _choose_regularization(self, gradient):\n",
    "        regularization_num = [0, 1, 2, 3]\n",
    "        '''\n",
    "        0 for no regularization, 1 for L1, 2 for L2, 3 for L1&L2\n",
    "        '''\n",
    "        if self.regularization is regularization_num[0]:\n",
    "            return gradient\n",
    "        if self.regularization is regularization_num[1]:\n",
    "            gradient += np.sign(self.w_[1:]) * self.C\n",
    "            return gradient\n",
    "        if self.regularization is regularization_num[2]:\n",
    "            gradient += -2 * self.w_[1:] * self.C\n",
    "            return gradient\n",
    "        if self.regularization is regularization_num[3]:\n",
    "            gradient += -2 * self.w_[1:] * self.C - np.sign(self.w_[1:]) * self.C\n",
    "            return gradient \n",
    "    \n",
    "    # public:\n",
    "    def predict_proba(self,X,add_bias=True):\n",
    "        # add bias term if requested\n",
    "        Xb = self._add_bias(X) if add_bias else X\n",
    "        return self._sigmoid(Xb @ self.w_) # return the probability y=1\n",
    "    \n",
    "    def predict(self,X):\n",
    "        return (self.predict_proba(X)>0.5) #return the actual prediction\n",
    "    \n",
    "#     # vectorized gradient calculation with regularization using L2 Norm\n",
    "#     def _get_gradient(self,X,y):\n",
    "#         ydiff = y-self.predict_proba(X,add_bias=False).ravel() # get y difference\n",
    "#         gradient = np.mean(X * ydiff[:,np.newaxis], axis=0) # make ydiff a column vector and multiply through\n",
    "        \n",
    "#         gradient = gradient.reshape(self.w_.shape)\n",
    "#         gradient[1:] += -2 * self.w_[1:] * self.C\n",
    "#         return gradient\n",
    "    \n",
    "    def _get_gradient_steepest(self,X,y):\n",
    "        ydiff = y-self.predict_proba(X,add_bias=False).ravel() # get y difference\n",
    "        gradient = np.mean(X * ydiff[:,np.newaxis], axis=0) # make ydiff a column vector and multiply through\n",
    "        gradient = gradient.reshape(self.w_.shape)\n",
    "        gradient[1:] += -2 * self.w_[1:] * self.C\n",
    "        return gradient\n",
    "    \n",
    "    def _update_w_steepest(self,X,y):\n",
    "        for _ in range(self.iters):\n",
    "            gradient = self._get_gradient_steepest(X,y)\n",
    "            self.w_ += gradient*self.eta # multiply by learning rate \n",
    "    \n",
    "    # stochastic gradient calculation \n",
    "    def _get_gradient_stochastic(self,X,y):\n",
    "        idx = int(np.random.rand()*len(y)) # grab random instance\n",
    "        ydiff = y[idx]-self.predict_proba(X[idx],add_bias=False) # get y difference (now scalar)\n",
    "        gradient = X[idx] * ydiff[:,np.newaxis] # make ydiff a column vector and multiply through\n",
    "        \n",
    "        gradient = gradient.reshape(self.w_.shape)\n",
    "        gradient[1:] = self._choose_regularization(gradient[1:])\n",
    "#         gradient[1:] += -2 * self.w_[1:] * self.C\n",
    "        \n",
    "        return gradient\n",
    "    \n",
    "    def _update_w_stochasitc(self,X,y):\n",
    "        # for as many as the max iterations\n",
    "        for _ in range(self.iters):\n",
    "            gradient = self._get_gradient_stochastic(X,y)\n",
    "            self.w_ += gradient*self.eta # multiply by learning rate \n",
    "            \n",
    "    \n",
    "    def _get_gradient_hessian(self,X,y):\n",
    "        g = self.predict_proba(X,add_bias=False).ravel() # get sigmoid value for all classes\n",
    "        hessian = X.T @ np.diag(g*(1-g)) @ X - 2 * self.C # calculate the hessian\n",
    "\n",
    "        ydiff = y-g # get y difference\n",
    "        gradient = np.sum(X * ydiff[:,np.newaxis], axis=0) # make ydiff a column vector and multiply through\n",
    "        gradient = gradient.reshape(self.w_.shape)\n",
    "        gradient[1:] = self._choose_regularization(gradient[1:])\n",
    "#         gradient[1:] += -2 * self.w_[1:] * self.C\n",
    "        \n",
    "        return pinv(hessian) @ gradient\n",
    "    \n",
    "    def _update_w_hessian(self,X,y):\n",
    "        for _ in range(self.iters):\n",
    "            gradient = self._get_gradient_hessian(X,y)\n",
    "            self.w_ += gradient*self.eta # multiply by learning rate \n",
    "    \n",
    "    @staticmethod\n",
    "    def BFGS_objective_function(w,X,y,C):\n",
    "        g = expit(X @ w)\n",
    "        return -np.sum(np.log(g[y==1]))-np.sum(np.log(1-g[y==0])) + C*sum(w**2) #-np.sum(y*np.log(g)+(1-y)*np.log(1-g))\n",
    "    \n",
    "    @staticmethod\n",
    "    def BFGS_objective_gradient(w,X,y,C):\n",
    "        g = expit(X @ w)\n",
    "        ydiff = y-g # get y difference\n",
    "        gradient = np.mean(X * ydiff[:,np.newaxis], axis=0)\n",
    "        gradient = gradient.reshape(w.shape)\n",
    "        gradient[1:] += -2 * w[1:] * C\n",
    "        return -gradient\n",
    "    \n",
    "    \n",
    "    def fit(self, X, y):\n",
    "        Xb = self._add_bias(X) # add bias term\n",
    "        num_samples, num_features = Xb.shape\n",
    "        \n",
    "        self.w_ = np.zeros((num_features,1)) # init weight vector to zeros\n",
    "        \n",
    "        # optionnumber represent the way we do optimization\n",
    "        optimization_number=[1,2,3,4]\n",
    "        # 1 for steepest descent. 2 for Stochastic Gradient Descent. \n",
    "        # 3 for Newton's Hessian, 4 for BGFS\n",
    "        \n",
    "################################################################\n",
    "        if self.optimization is optimization_number[0]:\n",
    "            # for as many as the max iterations\n",
    "#             print('optimization 1')\n",
    "            self._update_w_steepest(Xb, y) \n",
    "################################################################\n",
    "\n",
    "################################################################\n",
    "        if self.optimization is optimization_number[1]:\n",
    "#             print('optimization 2')\n",
    "            self._update_w_stochasitc(Xb, y)\n",
    "################################################################\n",
    "\n",
    "################################################################\n",
    "        if self.optimization is optimization_number[2]:\n",
    "#             print('optimization 3')\n",
    "            self._update_w_hessian(Xb, y)\n",
    "################################################################\n",
    "        if self.optimization is optimization_number[3]:\n",
    "#             print('optimization 4')\n",
    "            self.w_ = fmin_bfgs(self.BFGS_objective_function, # what to optimize\n",
    "                            np.zeros((num_features,1)), # starting point\n",
    "                            fprime=self.BFGS_objective_gradient, # gradient function\n",
    "                            args=(Xb,y,self.C), # extra args for gradient and objective function\n",
    "                            gtol=1e-03, # stopping criteria for gradient, |v_k|\n",
    "                            maxiter=self.iters, # stopping criteria iterations\n",
    "                            disp=False)\n",
    "            self.w_ = self.w_.reshape((num_features,1))\n",
    "################################################################    \n",
    "\n",
    "\n",
    "# optimization=1 for Line Search. 2 for Stochastic Gradient Descent. \n",
    "# 3 for Newton's Hessian   \n",
    "# blr = BinaryLogisticRegression(eta=0.1,iterations=5,C=0.001, \n",
    "#                                optimization=2, regularization=2)\n",
    "# blr.fit(X,y)\n",
    "# print(blr)\n",
    "\n",
    "# yhat = blr.predict(X)\n",
    "# print('Accuracy of: ',accuracy_score(y,yhat))"
   ]
  },
  {
   "cell_type": "markdown",
   "metadata": {},
   "source": [
    "## Multiclass Logistic Regression"
   ]
  },
  {
   "cell_type": "code",
   "execution_count": 9,
   "metadata": {},
   "outputs": [],
   "source": [
    "class MultiClassLogisticRegression:\n",
    "    def __init__(self, eta, iterations=20, C=0.0001, optimization=1,\n",
    "                regularization=2):\n",
    "        self.eta = eta\n",
    "        self.iters = iterations\n",
    "        self.C = C\n",
    "        self.optimization = optimization\n",
    "        self.regularization = regularization\n",
    "        self.classifiers_ = []\n",
    "        # internally we will store the weights as self.w_ to keep with sklearn conventions\n",
    "    \n",
    "    def __str__(self):\n",
    "        if(hasattr(self,'w_')):\n",
    "            return 'MultiClass Logistic Regression Object with coefficients:\\n'+ str(self.w_) # is we have trained the object\n",
    "        else:\n",
    "            return 'Untrained MultiClass Logistic Regression Object'\n",
    "        \n",
    "    def fit(self,X,y):\n",
    "        num_samples, num_features = X.shape\n",
    "        self.unique_ = np.sort(np.unique(y)) # get each unique class value\n",
    "        num_unique_classes = len(self.unique_)\n",
    "        self.classifiers_ = []\n",
    "        \n",
    "        for i,yval in enumerate(self.unique_): # for each unique value\n",
    "            y_binary = y==yval # create a binary problem\n",
    "            # train the binary classifier for this class\n",
    "            hblr = BinaryLogisticRegression(self.eta,self.iters,self.C,self.optimization, \n",
    "                                            self.regularization)\n",
    "            hblr.fit(X,y_binary)\n",
    "            # add the trained classifier to the list\n",
    "            self.classifiers_.append(hblr)\n",
    "            \n",
    "        # save all the weights into one matrix, separate column for each class\n",
    "        self.w_ = np.hstack([x.w_ for x in self.classifiers_]).T\n",
    "        \n",
    "    def predict_proba(self,X):\n",
    "        probs = []\n",
    "        for hblr in self.classifiers_:\n",
    "            probs.append(hblr.predict_proba(X).reshape((len(X),1))) # get probability for each classifier\n",
    "        \n",
    "        return np.hstack(probs) # make into single matrix\n",
    "    \n",
    "    def predict(self,X):\n",
    "        return np.argmax(self.predict_proba(X),axis=1) # take argmax along row\n",
    "    \n"
   ]
  },
  {
   "cell_type": "markdown",
   "metadata": {},
   "source": [
    "## Loading data"
   ]
  },
  {
   "cell_type": "code",
   "execution_count": 10,
   "metadata": {},
   "outputs": [
    {
     "name": "stdout",
     "output_type": "stream",
     "text": [
      "(2000, 20)\n",
      "(2000,)\n"
     ]
    }
   ],
   "source": [
    "from sklearn.preprocessing import StandardScaler\n",
    "df = pd.read_csv('/users/ouyang/desktop/CSE7324MachineLearning/Datasets/mobile-price-classification/train.csv')\n",
    "df.head(5)\n",
    "X = np.array(df.iloc[:,:20])\n",
    "y = np.array(df.iloc[:,-1])\n",
    "\n",
    "X = StandardScaler().fit(X).transform(X)\n",
    "y_not_binary = y\n",
    "\n",
    "print(X.shape)\n",
    "print(y_not_binary.shape)"
   ]
  },
  {
   "cell_type": "markdown",
   "metadata": {},
   "source": [
    "## Cross Validation"
   ]
  },
  {
   "cell_type": "code",
   "execution_count": 76,
   "metadata": {},
   "outputs": [],
   "source": [
    "from sklearn.model_selection import ShuffleSplit\n",
    "from sklearn import metrics as mt\n",
    "\n",
    "num_cv_iterations = 3\n",
    "cv_object = ShuffleSplit(n_splits=num_cv_iterations,test_size  = 0.2)\n",
    "\n",
    "iter_num=0\n",
    "for train_indices, test_indices in cv_object.split(X,y): \n",
    "    X_train = X[train_indices]\n",
    "    y_train = y[train_indices]\n",
    "    X_test = X[test_indices]\n",
    "    y_test = y[test_indices]"
   ]
  },
  {
   "cell_type": "markdown",
   "metadata": {},
   "source": [
    "Using cross validation, we can get different training dataset each time we run the code above."
   ]
  },
  {
   "cell_type": "markdown",
   "metadata": {},
   "source": [
    "# Below is testing"
   ]
  },
  {
   "cell_type": "code",
   "execution_count": 77,
   "metadata": {},
   "outputs": [
    {
     "name": "stdout",
     "output_type": "stream",
     "text": [
      "Accuracy of:  0.8025\n",
      "CPU times: user 2.9 s, sys: 8.23 ms, total: 2.9 s\n",
      "Wall time: 486 ms\n"
     ]
    }
   ],
   "source": [
    "%%time\n",
    "# when C is getting small, the accuracy increases\n",
    "lr = MultiClassLogisticRegression(eta=0.1,iterations=1000,C=0.001, \n",
    "                                  optimization=1)\n",
    "lr.fit(X_train,y_train)\n",
    "\n",
    "yhat = lr.predict(X_test)\n",
    "print('Accuracy of: ',accuracy_score(y_test,yhat))\n",
    "\n",
    "# 1500 iterations take 1 min 16 seconds"
   ]
  },
  {
   "cell_type": "code",
   "execution_count": 80,
   "metadata": {},
   "outputs": [
    {
     "name": "stdout",
     "output_type": "stream",
     "text": [
      "Accuracy of:  0.7\n",
      "CPU times: user 70.8 ms, sys: 4.94 ms, total: 75.8 ms\n",
      "Wall time: 71.2 ms\n"
     ]
    }
   ],
   "source": [
    "%%time\n",
    "# SGD need to take more steps, when C is getting small, the accuracy increases\n",
    "lr = MultiClassLogisticRegression(eta=0.1,iterations=1000,C=0.001, \n",
    "                                  optimization=2, regularization=2)\n",
    "lr.fit(X_train,y_train)\n",
    "yhat = lr.predict(X_test)\n",
    "print('Accuracy of: ',accuracy_score(y_test,yhat))\n",
    "# The accuracy of SDG is not fixed, about 70% when C=0.001"
   ]
  },
  {
   "cell_type": "code",
   "execution_count": 13,
   "metadata": {},
   "outputs": [
    {
     "name": "stdout",
     "output_type": "stream",
     "text": [
      "Accuracy of:  0.6235\n",
      "CPU times: user 1 s, sys: 108 ms, total: 1.11 s\n",
      "Wall time: 194 ms\n"
     ]
    }
   ],
   "source": [
    "%%time\n",
    "# Newton's method only needs a few iterations\n",
    "lr = MultiClassLogisticRegression(eta=0.1,iterations=5,C=0.01, \n",
    "                                  optimization=3, regularization=2)\n",
    "lr.fit(X_train,y_train)\n",
    "yhat = lr.predict(X_test)\n",
    "print('Accuracy of: ',accuracy_score(y_test,yhat))\n",
    "# The accuracy of Hessian is about 61%"
   ]
  },
  {
   "cell_type": "code",
   "execution_count": 81,
   "metadata": {},
   "outputs": [
    {
     "name": "stdout",
     "output_type": "stream",
     "text": [
      "Accuracy of:  0.8575\n",
      "CPU times: user 358 ms, sys: 2.4 ms, total: 360 ms\n",
      "Wall time: 61.4 ms\n"
     ]
    }
   ],
   "source": [
    "%%time\n",
    "# BFGS method only needs a few iterations\n",
    "lr = MultiClassLogisticRegression(eta=0.1,iterations=20,C=0.00001, \n",
    "                                  optimization=4, regularization=2)\n",
    "lr.fit(X_train,y_train)\n",
    "yhat = lr.predict(X_test)\n",
    "print('Accuracy of: ',accuracy_score(y_test,yhat))\n",
    "# The accuracy of Hessian is about 61%"
   ]
  },
  {
   "cell_type": "markdown",
   "metadata": {},
   "source": [
    "# Testing ends\n",
    "___"
   ]
  },
  {
   "cell_type": "markdown",
   "metadata": {},
   "source": [
    "## 2.2"
   ]
  },
  {
   "cell_type": "markdown",
   "metadata": {},
   "source": [
    "**Visualize the performance of the classifier versus the parameters you investigated. Is your method of selecting parameters justified? That is, do you think there is any \"data snooping\" involved with this method of selecting parameters?**"
   ]
  },
  {
   "cell_type": "markdown",
   "metadata": {},
   "source": [
    "I think there is some \"data snooping\" involed in my method of selecting data, but it's ok because we use cross validation for selecting the train data of dataset. This time, we select different iterations, the value of C and the value of eta to get different accuracy and try to get the highest one. Besides, we don't have a detailed check of our data so we have no idea how it distributes. Therefore, I think we don't have a serious problem of \"data snooping\"."
   ]
  },
  {
   "cell_type": "code",
   "execution_count": 82,
   "metadata": {},
   "outputs": [
    {
     "name": "stdout",
     "output_type": "stream",
     "text": [
      "CPU times: user 7.26 s, sys: 22.1 ms, total: 7.29 s\n",
      "Wall time: 1.22 s\n"
     ]
    },
    {
     "data": {
      "image/png": "[encoded data removed]",
      "text/plain": [
       "<Figure size 432x288 with 1 Axes>"
      ]
     },
     "metadata": {
      "needs_background": "light"
     },
     "output_type": "display_data"
    }
   ],
   "source": [
    "%%time\n",
    "# Compare the performance of \"Steepest Descent\" with \"L2 Regularization\"\n",
    "accuracy_list_sd = []\n",
    "C_list_sd = [0.3, 0.2, 0.1, 0.01, 0.001]\n",
    "for i in C_list_sd:\n",
    "    lr = MultiClassLogisticRegression(eta=0.1,iterations=500,C=i, \n",
    "                                  optimization=1, regularization=2)\n",
    "    lr.fit(X_train,y_train)\n",
    "    yhat = lr.predict(X_test)\n",
    "    accuracy_list_sd.append(accuracy_score(y_test,yhat))\n",
    "\n",
    "import seaborn as sns\n",
    "plt.xlabel(\"Value of C\")\n",
    "plt.ylabel(\"accuracy\")\n",
    "plt.title(\"Performance comparison of different C \\n in Steepest Descent under L2 regularization\")\n",
    "g = sns.barplot(x=C_list_sd, y=accuracy_list_sd)"
   ]
  },
  {
   "cell_type": "markdown",
   "metadata": {},
   "source": [
    "From the graph for Steepest Descent with L2 regularization above, we can see that when C is decreasing to about 0.01, the accuracy is around 76% and nearly stopping increasing, which means '0.01' is like a break point of the value of C.\n"
   ]
  },
  {
   "cell_type": "code",
   "execution_count": 85,
   "metadata": {},
   "outputs": [
    {
     "name": "stdout",
     "output_type": "stream",
     "text": [
      "CPU times: user 380 ms, sys: 5.26 ms, total: 386 ms\n",
      "Wall time: 381 ms\n"
     ]
    },
    {
     "data": {
      "image/png": "[encoded data removed]",
      "text/plain": [
       "<Figure size 432x288 with 1 Axes>"
      ]
     },
     "metadata": {
      "needs_background": "light"
     },
     "output_type": "display_data"
    }
   ],
   "source": [
    "%%time\n",
    "# Compare the performance of \"Stochastic Gradient Descent\" with \"L2 Regularization\"\n",
    "accuracy_list_sgd = []\n",
    "C_list_sgd = [0.3, 0.2, 0.1, 0.01, 0.001, 0.0001]\n",
    "for i in C_list_sgd:\n",
    "    lr = MultiClassLogisticRegression(eta=0.1,iterations=1000,C=i, \n",
    "                                  optimization=2, regularization=2)\n",
    "    lr.fit(X_train,y_train)\n",
    "    yhat = lr.predict(X_test)\n",
    "    accuracy_list_sgd.append(accuracy_score(y_test,yhat))\n",
    "\n",
    "import seaborn as sns\n",
    "plt.xlabel(\"Value of C\")\n",
    "plt.ylabel(\"accuracy\")\n",
    "plt.title(\"Performance comparison of different C \\n in Stochastic Gradient Descent under L2 regularization\")\n",
    "g = sns.barplot(x=C_list_sgd, y=accuracy_list_sgd)"
   ]
  },
  {
   "cell_type": "markdown",
   "metadata": {},
   "source": [
    "For the Stochastic Gradient Descent with L2 regularization, the accuracy is not stable. Sometimes the accuracy of \"C=0.01\" is even higher than the \"C=0.001\" one. From the graph above, we can get that the overall upper bound of accuracy is about 65% when C is around 0.01."
   ]
  },
  {
   "cell_type": "code",
   "execution_count": 88,
   "metadata": {},
   "outputs": [
    {
     "name": "stdout",
     "output_type": "stream",
     "text": [
      "CPU times: user 2.35 s, sys: 138 ms, total: 2.49 s\n",
      "Wall time: 420 ms\n"
     ]
    },
    {
     "data": {
      "image/png": "[encoded data removed]",
      "text/plain": [
       "<Figure size 432x288 with 1 Axes>"
      ]
     },
     "metadata": {
      "needs_background": "light"
     },
     "output_type": "display_data"
    }
   ],
   "source": [
    "%%time\n",
    "# Compare the performance of \"Newton's Hessian Descent\" with \"L2 Regularization\"\n",
    "accuracy_list_nhd = []\n",
    "C_list_nhd = [5, 2, 1, 0.5, 0.3, 0.1, 0.01,0.0001]\n",
    "for i in C_list_nhd:\n",
    "    lr = MultiClassLogisticRegression(eta=0.1,iterations=2,C=i, \n",
    "                                  optimization=3, regularization=3)\n",
    "    lr.fit(X_train,y_train)\n",
    "    yhat = lr.predict(X_test)\n",
    "    accuracy_list_nhd.append(accuracy_score(y_test,yhat))\n",
    "\n",
    "import seaborn as sns\n",
    "plt.xlabel(\"Value of C\")\n",
    "plt.ylabel(\"accuracy\")\n",
    "plt.title(\"Performance comparison of different C \\n in Newton's Hessian Descent under L2 regularization\")\n",
    "g = sns.barplot(x=C_list_nhd, y=accuracy_list_nhd)"
   ]
  },
  {
   "cell_type": "markdown",
   "metadata": {},
   "source": [
    "The graph above is using Newton's Hessian optimization and L1&L2 regulatization. We can see that the accuracy remain stable at 85% when C is around or below 0.5. One interesting thing is that the accuracy of \"C=2\" is even higher than \"C=1\""
   ]
  },
  {
   "cell_type": "code",
   "execution_count": 89,
   "metadata": {},
   "outputs": [
    {
     "name": "stdout",
     "output_type": "stream",
     "text": [
      "CPU times: user 2.98 s, sys: 7.46 ms, total: 2.99 s\n",
      "Wall time: 502 ms\n"
     ]
    },
    {
     "data": {
      "image/png": "[encoded data removed]",
      "text/plain": [
       "<Figure size 432x288 with 1 Axes>"
      ]
     },
     "metadata": {
      "needs_background": "light"
     },
     "output_type": "display_data"
    }
   ],
   "source": [
    "%%time\n",
    "# Compare the performance of \"BFGS\" with \"L2 Regularization\"\n",
    "accuracy_list_BFGS = []\n",
    "C_list_BFGS = [2, 1, 0.5, 0.3, 0.1, 0.01, 0.001, 0.0001]\n",
    "for i in C_list_BFGS:\n",
    "    lr = MultiClassLogisticRegression(eta=0.1,iterations=50,C=i, \n",
    "                                  optimization=4, regularization=2)\n",
    "    lr.fit(X_train,y_train)\n",
    "    yhat = lr.predict(X_test)\n",
    "    accuracy_list_BFGS.append(accuracy_score(y_test,yhat))\n",
    "\n",
    "import seaborn as sns\n",
    "plt.xlabel(\"Value of C\")\n",
    "plt.ylabel(\"accuracy\")\n",
    "plt.title(\"Performance comparison of different C \\n in BFGS under L2 regularization\")\n",
    "g = sns.barplot(x=C_list_BFGS, y=accuracy_list_BFGS)"
   ]
  },
  {
   "cell_type": "markdown",
   "metadata": {},
   "source": [
    "From the graph above that shows the relationship between C and accuracy of BFGS optimization, we can see that the overall accuracy is getting higher when C is getting smaller (when C is at 0.0001-0.1). The same weird thing happens again when C is between 0.5-1.0, at which the accuracy is also getting higher!"
   ]
  },
  {
   "cell_type": "code",
   "execution_count": 23,
   "metadata": {},
   "outputs": [
    {
     "name": "stdout",
     "output_type": "stream",
     "text": [
      "Accuracy of:  0.7955\n",
      "CPU times: user 453 ms, sys: 3.71 ms, total: 457 ms\n",
      "Wall time: 79.7 ms\n"
     ]
    }
   ],
   "source": [
    "%%time\n",
    "lr = MultiClassLogisticRegression(eta=0.1,iterations=10,C=0.01, \n",
    "                                  optimization=4, regularization=2)\n",
    "lr.fit(X,y_not_binary)\n",
    "yhat = lr.predict(X)\n",
    "print('Accuracy of: ',accuracy_score(y_not_binary,yhat))"
   ]
  },
  {
   "cell_type": "markdown",
   "metadata": {},
   "source": [
    "# Compare to scikit-learn"
   ]
  },
  {
   "cell_type": "markdown",
   "metadata": {},
   "source": [
    "### Compare the performance of your \"best\" logistic regression optimization procedure to the procedure used in scikit-learn. Visualize the performance differences in terms of training time and classification performance. Discuss the results."
   ]
  },
  {
   "cell_type": "code",
   "execution_count": 97,
   "metadata": {},
   "outputs": [],
   "source": [
    "def show_values_on_bars(axs):\n",
    "    def _show_on_single_plot(ax):        \n",
    "        for p in ax.patches:\n",
    "            _x = p.get_x() + p.get_width() / 2\n",
    "            _y = p.get_y() + p.get_height()\n",
    "            value = '{:.2f}'.format(p.get_height())\n",
    "            ax.text(_x, _y, value, ha=\"center\") \n",
    "\n",
    "    if isinstance(axs, np.ndarray):\n",
    "        for idx, ax in np.ndenumerate(axs):\n",
    "            _show_on_single_plot(ax)\n",
    "    else:\n",
    "        _show_on_single_plot(axs)"
   ]
  },
  {
   "cell_type": "code",
   "execution_count": 110,
   "metadata": {},
   "outputs": [
    {
     "name": "stdout",
     "output_type": "stream",
     "text": [
      "Accuracy of:  0.86\n"
     ]
    },
    {
     "data": {
      "image/png": "[encoded data removed]",
      "text/plain": [
       "<Figure size 432x288 with 1 Axes>"
      ]
     },
     "metadata": {
      "needs_background": "light"
     },
     "output_type": "display_data"
    },
    {
     "data": {
      "image/png": "[encoded data removed]",
      "text/plain": [
       "<Figure size 432x288 with 1 Axes>"
      ]
     },
     "metadata": {
      "needs_background": "light"
     },
     "output_type": "display_data"
    }
   ],
   "source": [
    "import time\n",
    "# how do we compare now to sklearn?\n",
    "from sklearn.linear_model import LogisticRegression\n",
    "\n",
    "running_time = []\n",
    "# record the running time\n",
    "start_sk = time.time()\n",
    "\n",
    "# Use sklearn-traning\n",
    "lr_sk = LogisticRegression(solver='lbfgs',n_jobs=1, C=1000) \n",
    "lr_sk.fit(X_train,y_train)\n",
    "end_sk = time.time()\n",
    "running_time.append(end_sk-start_sk)\n",
    "\n",
    "yhat_sk = lr_sk.predict(X_test)\n",
    "print('Accuracy of: ',accuracy_score(y_test,yhat_sk))\n",
    "\n",
    "\n",
    "#########################################################################################################\n",
    "start_my = time.time()\n",
    "lr_bfgs = MultiClassLogisticRegression(eta=0.1,iterations=20,C=0.00001, optimization=4, regularization=2)\n",
    "lr_bfgs.fit(X_train, y_train)\n",
    "end_my = time.time()\n",
    "running_time.append(end_my-start_my)\n",
    "\n",
    "yhat_lr = lr_bfgs.predict(X_test)\n",
    "accuracy_bfgs = [accuracy_score(y_test,yhat_sk), accuracy_score(y_test,yhat_lr)]\n",
    "method_list = ['sk-learn_lr', 'my_lr']\n",
    "\n",
    "# plt.figure(figsize=(10,10))\n",
    "fig, ax = plt.subplots(1, 1)\n",
    "\n",
    "plt.title('Accuracy comparison')\n",
    "plt.xlabel('method')\n",
    "plt.ylabel('accuracy')\n",
    "ax = sns.barplot(x=method_list, y=accuracy_bfgs)\n",
    "show_values_on_bars(ax)\n",
    "\n",
    "\n",
    "fig, ax = plt.subplots(1, 1)\n",
    "plt.title('Running time comparison')\n",
    "plt.xlabel('method')\n",
    "plt.ylabel('running time /s')\n",
    "ax = sns.barplot(x=method_list, y=running_time)\n",
    "show_values_on_bars(ax)"
   ]
  },
  {
   "cell_type": "code",
   "execution_count": null,
   "metadata": {},
   "outputs": [],
   "source": []
  },
  {
   "cell_type": "code",
   "execution_count": null,
   "metadata": {},
   "outputs": [],
   "source": []
  }
 ],
 "metadata": {
  "kernelspec": {
   "display_name": "Python 3",
   "language": "python",
   "name": "python3"
  },
  "language_info": {
   "codemirror_mode": {
    "name": "ipython",
    "version": 3
   },
   "file_extension": ".py",
   "mimetype": "text/x-python",
   "name": "python",
   "nbconvert_exporter": "python",
   "pygments_lexer": "ipython3",
   "version": "3.6.8"
  }
 },
 "nbformat": 4,
 "nbformat_minor": 2
}
